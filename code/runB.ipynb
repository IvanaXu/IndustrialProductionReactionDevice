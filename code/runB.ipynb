{
 "cells": [
  {
   "cell_type": "code",
   "execution_count": null,
   "id": "92d94c83",
   "metadata": {},
   "outputs": [],
   "source": [
    "import numpy as np\n",
    "import pandas as pd\n",
    "from tqdm import tqdm\n",
    "\n",
    "path = \"../data/\"\n",
    "! ls -l $path"
   ]
  },
  {
   "cell_type": "code",
   "execution_count": null,
   "id": "1a9c33dc",
   "metadata": {},
   "outputs": [],
   "source": [
    "%%time\n",
    "\n",
    "import warnings\n",
    "warnings.filterwarnings(\"ignore\")\n",
    "\n",
    "N = 100\n",
    "\n",
    "train = pd.read_csv(f\"{path}/train.csv\")\n",
    "testB1 = pd.read_csv(f\"{path}/predict_B1.csv\", sep=\"\\t\")\n",
    "testB2 = pd.read_csv(f\"{path}/predict_B2.csv\", sep=\"\\t\")\n",
    "testB3 = pd.read_csv(f\"{path}/predict_B3.csv\", sep=\"\\t\")\n",
    "\n",
    "Xcols = []\n",
    "Ycols = [\"cv1\", \"cv2\"]\n",
    "for icol in [\"dv1\", \"dv2\", \"mv1\"]:\n",
    "    for n in range(-N, N+1):\n",
    "        for df in [train, testB1, testB2, testB3]:\n",
    "            df[f\"base_{icol}_{n}\"] = df[f\"{icol}\"].shift(n)\n",
    "            df[f\"gaps_{icol}_{n}\"] = [_1 - _2 for _1, _2 in zip(df[icol], df[f\"base_{icol}_{n}\"])]\n",
    "            df[f\"sums_{icol}_{n}\"] = [(_1-_2)/2 for _1, _2 in zip(df[icol], df[f\"base_{icol}_{n}\"])]\n",
    "        \n",
    "        Xcols.extend([\n",
    "            f\"base_{icol}_{n}\", \n",
    "            f\"gaps_{icol}_{n}\",\n",
    "            f\"sums_{icol}_{n}\",\n",
    "        ])\n",
    "\n",
    "train_data = train[Xcols + Ycols].copy()\n"
   ]
  },
  {
   "cell_type": "code",
   "execution_count": null,
   "id": "d687bab4",
   "metadata": {},
   "outputs": [],
   "source": [
    "train_data"
   ]
  },
  {
   "cell_type": "code",
   "execution_count": null,
   "id": "d218d3e7",
   "metadata": {},
   "outputs": [],
   "source": [
    "%%time\n",
    "\n",
    "from tqdm import tqdm\n",
    "from sklearn.metrics import r2_score\n",
    "from xgboost.sklearn import XGBRegressor\n",
    "from sklearn.model_selection import train_test_split\n",
    "\n",
    "\n",
    "r = {}\n",
    "for ycol in tqdm(Ycols):\n",
    "    r[ycol] = []\n",
    "    \n",
    "    X, Y = train_data[Xcols], train_data[ycol]\n",
    "    print(X.shape, Y.shape)\n",
    "    \n",
    "    x_train, x_tests, y_train, y_tests = train_test_split(\n",
    "        X, Y, \n",
    "        test_size=0.2, \n",
    "        random_state=0\n",
    "    )\n",
    "    model = XGBRegressor(\n",
    "        max_depth=6,\n",
    "        learning_rate=0.1,\n",
    "        n_estimators=100,\n",
    "        objective='reg:squarederror',\n",
    "        booster='gbtree',\n",
    "        gamma=0,\n",
    "        min_child_weight=1,\n",
    "        subsample=1,\n",
    "        colsample_bytree=1,\n",
    "        reg_alpha=0,\n",
    "        reg_lambda=1,\n",
    "        random_state=0,\n",
    "    )\n",
    "    %time model.fit(x_train, y_train)\n",
    "    \n",
    "    print(f\"{ycol} Train R2 {r2_score(y_true=y_train, y_pred=model.predict(x_train)):.6f}\")\n",
    "    print(f\"{ycol} Tests R2 {r2_score(y_true=y_tests, y_pred=model.predict(x_tests)):.6f}\")\n",
    "    \n",
    "    # \n",
    "    r[ycol].extend(model.predict(testB1[Xcols]))\n",
    "    r[ycol].extend(model.predict(testB2[Xcols]))\n",
    "    r[ycol].extend(model.predict(testB3[Xcols]))\n"
   ]
  },
  {
   "cell_type": "code",
   "execution_count": null,
   "id": "87c329d5",
   "metadata": {},
   "outputs": [],
   "source": [
    "result = pd.DataFrame()\n",
    "result[\"cv1\"] = r[\"cv1\"]\n",
    "result[\"cv2\"] = r[\"cv2\"]\n",
    "result.head()"
   ]
  },
  {
   "cell_type": "code",
   "execution_count": null,
   "id": "28767821",
   "metadata": {},
   "outputs": [],
   "source": [
    "result.to_csv(\"submit.csv\", index=False)\n",
    "! md5sum -c submit.md5\n"
   ]
  },
  {
   "cell_type": "code",
   "execution_count": null,
   "id": "e83caa31",
   "metadata": {},
   "outputs": [],
   "source": [
    "# ! md5sum submit.csv > submit.md5"
   ]
  },
  {
   "cell_type": "code",
   "execution_count": null,
   "id": "bae97a3b",
   "metadata": {},
   "outputs": [],
   "source": []
  }
 ],
 "metadata": {
  "kernelspec": {
   "display_name": "Python 3 (ipykernel)",
   "language": "python",
   "name": "python3"
  },
  "language_info": {
   "codemirror_mode": {
    "name": "ipython",
    "version": 3
   },
   "file_extension": ".py",
   "mimetype": "text/x-python",
   "name": "python",
   "nbconvert_exporter": "python",
   "pygments_lexer": "ipython3",
   "version": "3.9.12"
  }
 },
 "nbformat": 4,
 "nbformat_minor": 5
}
